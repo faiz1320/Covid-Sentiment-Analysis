{
 "cells": [
  {
   "cell_type": "code",
   "execution_count": 1,
   "id": "e3b2549e",
   "metadata": {
    "_cell_guid": "b1076dfc-b9ad-4769-8c92-a6c4dae69d19",
    "_uuid": "8f2839f25d086af736a60e9eeb907d3b93b6e0e5",
    "execution": {
     "iopub.execute_input": "2022-07-14T10:30:50.588165Z",
     "iopub.status.busy": "2022-07-14T10:30:50.587074Z",
     "iopub.status.idle": "2022-07-14T10:30:50.603246Z",
     "shell.execute_reply": "2022-07-14T10:30:50.603745Z",
     "shell.execute_reply.started": "2022-04-12T06:17:04.153554Z"
    },
    "papermill": {
     "duration": 0.040391,
     "end_time": "2022-07-14T10:30:50.604130",
     "exception": false,
     "start_time": "2022-07-14T10:30:50.563739",
     "status": "completed"
    },
    "tags": []
   },
   "outputs": [
    {
     "name": "stdout",
     "output_type": "stream",
     "text": [
      "/kaggle/input/newdataset6/new6_data (1).csv\n"
     ]
    }
   ],
   "source": [
    "# This Python 3 environment comes with many helpful analytics libraries installed\n",
    "# It is defined by the kaggle/python Docker image: https://github.com/kaggle/docker-python\n",
    "# For example, here's several helpful packages to load\n",
    "\n",
    "import numpy as np # linear algebra\n",
    "import pandas as pd # data processing, CSV file I/O (e.g. pd.read_csv)\n",
    "\n",
    "# Input data files are available in the read-only \"../input/\" directory\n",
    "# For example, running this (by clicking run or pressing Shift+Enter) will list all files under the input directory\n",
    "\n",
    "import os\n",
    "for dirname, _, filenames in os.walk('/kaggle/input'):\n",
    "    for filename in filenames:\n",
    "        print(os.path.join(dirname, filename))\n",
    "\n",
    "# You can write up to 20GB to the current directory (/kaggle/working/) that gets preserved as output when you create a version using \"Save & Run All\" \n",
    "# You can also write temporary files to /kaggle/temp/, but they won't be saved outside of the current session"
   ]
  },
  {
   "cell_type": "code",
   "execution_count": 2,
   "id": "377fd5de",
   "metadata": {
    "execution": {
     "iopub.execute_input": "2022-07-14T10:30:50.646455Z",
     "iopub.status.busy": "2022-07-14T10:30:50.645824Z",
     "iopub.status.idle": "2022-07-14T10:30:52.750503Z",
     "shell.execute_reply": "2022-07-14T10:30:52.751040Z",
     "shell.execute_reply.started": "2022-04-12T06:17:04.191419Z"
    },
    "papermill": {
     "duration": 2.1271,
     "end_time": "2022-07-14T10:30:52.751250",
     "exception": false,
     "start_time": "2022-07-14T10:30:50.624150",
     "status": "completed"
    },
    "tags": []
   },
   "outputs": [
    {
     "name": "stdout",
     "output_type": "stream",
     "text": [
      "[nltk_data] Downloading package stopwords to /usr/share/nltk_data...\n",
      "[nltk_data]   Unzipping corpora/stopwords.zip.\n"
     ]
    }
   ],
   "source": [
    "import re\n",
    "import matplotlib.pyplot as plt\n",
    "from nltk.corpus import stopwords\n",
    "from nltk.stem import PorterStemmer\n",
    "from sklearn.feature_extraction.text import TfidfVectorizer\n",
    "from sklearn.pipeline import Pipeline\n",
    "from sklearn.metrics import classification_report, confusion_matrix\n",
    "from sklearn.model_selection import train_test_split\n",
    "from sklearn.feature_selection import SelectKBest, chi2\n",
    "from sqlite3 import Error\n",
    "from sklearn.ensemble import RandomForestClassifier\n",
    "import sqlite3\n",
    "import pickle\n",
    "import nltk\n",
    "nltk.download('stopwords')\n",
    "%matplotlib inline"
   ]
  },
  {
   "cell_type": "code",
   "execution_count": 3,
   "id": "6fcd6aa3",
   "metadata": {
    "execution": {
     "iopub.execute_input": "2022-07-14T10:30:52.792532Z",
     "iopub.status.busy": "2022-07-14T10:30:52.791855Z",
     "iopub.status.idle": "2022-07-14T10:30:59.148925Z",
     "shell.execute_reply": "2022-07-14T10:30:59.148195Z",
     "shell.execute_reply.started": "2022-04-12T06:17:06.018470Z"
    },
    "papermill": {
     "duration": 6.378921,
     "end_time": "2022-07-14T10:30:59.149088",
     "exception": false,
     "start_time": "2022-07-14T10:30:52.770167",
     "status": "completed"
    },
    "tags": []
   },
   "outputs": [
    {
     "name": "stderr",
     "output_type": "stream",
     "text": [
      "/opt/conda/lib/python3.7/site-packages/IPython/core/interactiveshell.py:3457: DtypeWarning: Columns (1,2,7,8,9,10,15,16,17,18,19,20) have mixed types.Specify dtype option on import or set low_memory=False.\n",
      "  exec(code_obj, self.user_global_ns, self.user_ns)\n"
     ]
    }
   ],
   "source": [
    "data = '../input/newdataset6/new6_data (1).csv'\n",
    "\n",
    "df = pd.read_csv(data, header=None)"
   ]
  },
  {
   "cell_type": "code",
   "execution_count": 4,
   "id": "0961e213",
   "metadata": {
    "execution": {
     "iopub.execute_input": "2022-07-14T10:30:59.194918Z",
     "iopub.status.busy": "2022-07-14T10:30:59.194150Z",
     "iopub.status.idle": "2022-07-14T10:31:03.521328Z",
     "shell.execute_reply": "2022-07-14T10:31:03.521872Z",
     "shell.execute_reply.started": "2022-04-12T06:17:11.491253Z"
    },
    "papermill": {
     "duration": 4.353352,
     "end_time": "2022-07-14T10:31:03.522062",
     "exception": false,
     "start_time": "2022-07-14T10:30:59.168710",
     "status": "completed"
    },
    "tags": []
   },
   "outputs": [
    {
     "data": {
      "text/html": [
       "<div>\n",
       "<style scoped>\n",
       "    .dataframe tbody tr th:only-of-type {\n",
       "        vertical-align: middle;\n",
       "    }\n",
       "\n",
       "    .dataframe tbody tr th {\n",
       "        vertical-align: top;\n",
       "    }\n",
       "\n",
       "    .dataframe thead th {\n",
       "        text-align: right;\n",
       "    }\n",
       "</style>\n",
       "<table border=\"1\" class=\"dataframe\">\n",
       "  <thead>\n",
       "    <tr style=\"text-align: right;\">\n",
       "      <th></th>\n",
       "      <th>Unnamed: 0</th>\n",
       "      <th>Unnamed: 0.1</th>\n",
       "      <th>Unnamed: 0.1.1</th>\n",
       "      <th>user_name</th>\n",
       "      <th>user_location</th>\n",
       "      <th>user_description</th>\n",
       "      <th>user_created</th>\n",
       "      <th>user_followers</th>\n",
       "      <th>user_friends</th>\n",
       "      <th>user_favourites</th>\n",
       "      <th>...</th>\n",
       "      <th>text</th>\n",
       "      <th>hashtags</th>\n",
       "      <th>source</th>\n",
       "      <th>is_retweet</th>\n",
       "      <th>Positive</th>\n",
       "      <th>Negative</th>\n",
       "      <th>Neutral</th>\n",
       "      <th>Compound</th>\n",
       "      <th>Sentiment</th>\n",
       "      <th>cleaned</th>\n",
       "    </tr>\n",
       "  </thead>\n",
       "  <tbody>\n",
       "    <tr>\n",
       "      <th>0</th>\n",
       "      <td>0</td>\n",
       "      <td>0</td>\n",
       "      <td>0</td>\n",
       "      <td>MyNewsNE</td>\n",
       "      <td>Assam</td>\n",
       "      <td>MyNewsNE a dedicated multi-lingual media house...</td>\n",
       "      <td>24-05-2020 10:18</td>\n",
       "      <td>64.0</td>\n",
       "      <td>11.0</td>\n",
       "      <td>110.0</td>\n",
       "      <td>...</td>\n",
       "      <td>Australia to Manufacture Covid-19 Vaccine and ...</td>\n",
       "      <td>['CovidVaccine']</td>\n",
       "      <td>Twitter Web App</td>\n",
       "      <td>False</td>\n",
       "      <td>0.148</td>\n",
       "      <td>0.000</td>\n",
       "      <td>0.852</td>\n",
       "      <td>0.5106</td>\n",
       "      <td>1</td>\n",
       "      <td>australia manufactur covid vaccin give citizen...</td>\n",
       "    </tr>\n",
       "    <tr>\n",
       "      <th>1</th>\n",
       "      <td>1</td>\n",
       "      <td>1</td>\n",
       "      <td>7</td>\n",
       "      <td>AKisASocialisolationist wash yer damn hands</td>\n",
       "      <td>The Great Pacific Northwest</td>\n",
       "      <td>Iconoclast, cat person, soccer fan, textile &amp; ...</td>\n",
       "      <td>07-02-2015 07:24</td>\n",
       "      <td>2321.0</td>\n",
       "      <td>3236.0</td>\n",
       "      <td>264351.0</td>\n",
       "      <td>...</td>\n",
       "      <td>@MSNBC Well, let’s qualify that: would anyone ...</td>\n",
       "      <td>['CovidVaccine']</td>\n",
       "      <td>Twitter for iPhone</td>\n",
       "      <td>False</td>\n",
       "      <td>0.202</td>\n",
       "      <td>0.000</td>\n",
       "      <td>0.798</td>\n",
       "      <td>0.5859</td>\n",
       "      <td>1</td>\n",
       "      <td>msnbc well let qualifi would anyon parti get v...</td>\n",
       "    </tr>\n",
       "    <tr>\n",
       "      <th>2</th>\n",
       "      <td>2</td>\n",
       "      <td>2</td>\n",
       "      <td>8</td>\n",
       "      <td>Dr. Joseph Santoro</td>\n",
       "      <td>Washington, DC 20009</td>\n",
       "      <td>Neuro PhD, #Innovator, #Technologist, #Startup...</td>\n",
       "      <td>17-01-2009 21:10</td>\n",
       "      <td>19091.0</td>\n",
       "      <td>20986.0</td>\n",
       "      <td>128119.0</td>\n",
       "      <td>...</td>\n",
       "      <td>Most countries, without the ability to make #V...</td>\n",
       "      <td>['Vaccines']</td>\n",
       "      <td>Hootsuite Inc.</td>\n",
       "      <td>False</td>\n",
       "      <td>0.098</td>\n",
       "      <td>0.195</td>\n",
       "      <td>0.707</td>\n",
       "      <td>-0.3532</td>\n",
       "      <td>-1</td>\n",
       "      <td>most countri without abil make vaccin local fo...</td>\n",
       "    </tr>\n",
       "    <tr>\n",
       "      <th>3</th>\n",
       "      <td>3</td>\n",
       "      <td>3</td>\n",
       "      <td>9</td>\n",
       "      <td>VUMC OAP</td>\n",
       "      <td>Nashville, TN</td>\n",
       "      <td>Office of Advanced Practice, Vanderbilt Univer...</td>\n",
       "      <td>16-03-2017 20:22</td>\n",
       "      <td>282.0</td>\n",
       "      <td>96.0</td>\n",
       "      <td>788.0</td>\n",
       "      <td>...</td>\n",
       "      <td>#DNA  zooms up charts in 1st week; hear #vacci...</td>\n",
       "      <td>['DNA', 'vaccines', 'pandemic', 'COVID19', 'Co...</td>\n",
       "      <td>Twitter Web App</td>\n",
       "      <td>False</td>\n",
       "      <td>0.000</td>\n",
       "      <td>0.000</td>\n",
       "      <td>1.000</td>\n",
       "      <td>0.0000</td>\n",
       "      <td>0</td>\n",
       "      <td>dna zoom chart st week hear vaccin episod http...</td>\n",
       "    </tr>\n",
       "    <tr>\n",
       "      <th>4</th>\n",
       "      <td>4</td>\n",
       "      <td>4</td>\n",
       "      <td>11</td>\n",
       "      <td>Mohammadali Naseri</td>\n",
       "      <td>TEHRAN</td>\n",
       "      <td>MSc in Numerical Analysis from the Kharazmi Un...</td>\n",
       "      <td>02-02-2018 17:20</td>\n",
       "      <td>4.0</td>\n",
       "      <td>88.0</td>\n",
       "      <td>90.0</td>\n",
       "      <td>...</td>\n",
       "      <td>it’s over?!\\n\\n#Covid19Millionares #covid19 \\n...</td>\n",
       "      <td>['Covid19Millionares', 'covid19', 'corona', 'C...</td>\n",
       "      <td>Twitter for iPhone</td>\n",
       "      <td>False</td>\n",
       "      <td>0.000</td>\n",
       "      <td>0.000</td>\n",
       "      <td>1.000</td>\n",
       "      <td>0.0000</td>\n",
       "      <td>0</td>\n",
       "      <td>covid millionar covid corona covidvaccin</td>\n",
       "    </tr>\n",
       "  </tbody>\n",
       "</table>\n",
       "<p>5 rows × 22 columns</p>\n",
       "</div>"
      ],
      "text/plain": [
       "   Unnamed: 0  Unnamed: 0.1  Unnamed: 0.1.1  \\\n",
       "0           0             0               0   \n",
       "1           1             1               7   \n",
       "2           2             2               8   \n",
       "3           3             3               9   \n",
       "4           4             4              11   \n",
       "\n",
       "                                     user_name                user_location  \\\n",
       "0                                     MyNewsNE                        Assam   \n",
       "1  AKisASocialisolationist wash yer damn hands  The Great Pacific Northwest   \n",
       "2                           Dr. Joseph Santoro         Washington, DC 20009   \n",
       "3                                     VUMC OAP                Nashville, TN   \n",
       "4                           Mohammadali Naseri                       TEHRAN   \n",
       "\n",
       "                                    user_description      user_created  \\\n",
       "0  MyNewsNE a dedicated multi-lingual media house...  24-05-2020 10:18   \n",
       "1  Iconoclast, cat person, soccer fan, textile & ...  07-02-2015 07:24   \n",
       "2  Neuro PhD, #Innovator, #Technologist, #Startup...  17-01-2009 21:10   \n",
       "3  Office of Advanced Practice, Vanderbilt Univer...  16-03-2017 20:22   \n",
       "4  MSc in Numerical Analysis from the Kharazmi Un...  02-02-2018 17:20   \n",
       "\n",
       "   user_followers  user_friends  user_favourites  ...  \\\n",
       "0            64.0          11.0            110.0  ...   \n",
       "1          2321.0        3236.0         264351.0  ...   \n",
       "2         19091.0       20986.0         128119.0  ...   \n",
       "3           282.0          96.0            788.0  ...   \n",
       "4             4.0          88.0             90.0  ...   \n",
       "\n",
       "                                                text  \\\n",
       "0  Australia to Manufacture Covid-19 Vaccine and ...   \n",
       "1  @MSNBC Well, let’s qualify that: would anyone ...   \n",
       "2  Most countries, without the ability to make #V...   \n",
       "3  #DNA  zooms up charts in 1st week; hear #vacci...   \n",
       "4  it’s over?!\\n\\n#Covid19Millionares #covid19 \\n...   \n",
       "\n",
       "                                            hashtags              source  \\\n",
       "0                                   ['CovidVaccine']     Twitter Web App   \n",
       "1                                   ['CovidVaccine']  Twitter for iPhone   \n",
       "2                                       ['Vaccines']      Hootsuite Inc.   \n",
       "3  ['DNA', 'vaccines', 'pandemic', 'COVID19', 'Co...     Twitter Web App   \n",
       "4  ['Covid19Millionares', 'covid19', 'corona', 'C...  Twitter for iPhone   \n",
       "\n",
       "  is_retweet Positive  Negative  Neutral  Compound  Sentiment  \\\n",
       "0      False    0.148     0.000    0.852    0.5106          1   \n",
       "1      False    0.202     0.000    0.798    0.5859          1   \n",
       "2      False    0.098     0.195    0.707   -0.3532         -1   \n",
       "3      False    0.000     0.000    1.000    0.0000          0   \n",
       "4      False    0.000     0.000    1.000    0.0000          0   \n",
       "\n",
       "                                             cleaned  \n",
       "0  australia manufactur covid vaccin give citizen...  \n",
       "1  msnbc well let qualifi would anyon parti get v...  \n",
       "2  most countri without abil make vaccin local fo...  \n",
       "3  dna zoom chart st week hear vaccin episod http...  \n",
       "4           covid millionar covid corona covidvaccin  \n",
       "\n",
       "[5 rows x 22 columns]"
      ]
     },
     "execution_count": 4,
     "metadata": {},
     "output_type": "execute_result"
    }
   ],
   "source": [
    "#load csv file\n",
    "Train = pd.read_csv('../input/newdataset6/new6_data (1).csv')\n",
    "data=Train\n",
    "data.head()"
   ]
  },
  {
   "cell_type": "code",
   "execution_count": 5,
   "id": "67507c25",
   "metadata": {
    "execution": {
     "iopub.execute_input": "2022-07-14T10:31:03.568222Z",
     "iopub.status.busy": "2022-07-14T10:31:03.567467Z",
     "iopub.status.idle": "2022-07-14T10:32:37.802355Z",
     "shell.execute_reply": "2022-07-14T10:32:37.801570Z",
     "shell.execute_reply.started": "2022-04-12T06:17:15.043849Z"
    },
    "papermill": {
     "duration": 94.260507,
     "end_time": "2022-07-14T10:32:37.802526",
     "exception": false,
     "start_time": "2022-07-14T10:31:03.542019",
     "status": "completed"
    },
    "tags": []
   },
   "outputs": [
    {
     "name": "stdout",
     "output_type": "stream",
     "text": [
      "[nltk_data] Downloading package stopwords to /usr/share/nltk_data...\n",
      "[nltk_data]   Package stopwords is already up-to-date!\n"
     ]
    }
   ],
   "source": [
    "nltk.download('stopwords')\n",
    "stemmer = PorterStemmer()\n",
    "words = stopwords.words(\"english\")\n",
    "Train['cleaned'] = Train['text'].apply(lambda x: \" \".join([stemmer.stem(i) for i in re.sub(\"[^a-zA-Z]\", \" \", x).split() if i not in words]).lower())"
   ]
  },
  {
   "cell_type": "code",
   "execution_count": 6,
   "id": "65a660f4",
   "metadata": {
    "execution": {
     "iopub.execute_input": "2022-07-14T10:32:37.856467Z",
     "iopub.status.busy": "2022-07-14T10:32:37.855764Z",
     "iopub.status.idle": "2022-07-14T10:32:37.860333Z",
     "shell.execute_reply": "2022-07-14T10:32:37.859830Z",
     "shell.execute_reply.started": "2022-04-12T06:19:32.108476Z"
    },
    "papermill": {
     "duration": 0.036815,
     "end_time": "2022-07-14T10:32:37.860498",
     "exception": false,
     "start_time": "2022-07-14T10:32:37.823683",
     "status": "completed"
    },
    "tags": []
   },
   "outputs": [
    {
     "data": {
      "text/plain": [
       " 1    112009\n",
       " 0     82319\n",
       "-1     49696\n",
       "Name: Sentiment, dtype: int64"
      ]
     },
     "execution_count": 6,
     "metadata": {},
     "output_type": "execute_result"
    }
   ],
   "source": [
    "Train['Sentiment'].value_counts()"
   ]
  },
  {
   "cell_type": "code",
   "execution_count": 7,
   "id": "c775be51",
   "metadata": {
    "execution": {
     "iopub.execute_input": "2022-07-14T10:32:37.947499Z",
     "iopub.status.busy": "2022-07-14T10:32:37.946229Z",
     "iopub.status.idle": "2022-07-14T10:32:38.252201Z",
     "shell.execute_reply": "2022-07-14T10:32:38.252690Z",
     "shell.execute_reply.started": "2022-04-12T06:19:32.125250Z"
    },
    "papermill": {
     "duration": 0.371033,
     "end_time": "2022-07-14T10:32:38.252928",
     "exception": false,
     "start_time": "2022-07-14T10:32:37.881895",
     "status": "completed"
    },
    "tags": []
   },
   "outputs": [
    {
     "data": {
      "text/plain": [
       "0         australia to manufacture covid-19 vaccine and ...\n",
       "1         @msnbc well, let’s qualify that: would anyone ...\n",
       "2         most countries, without the ability to make #v...\n",
       "3         #dna  zooms up charts in 1st week; hear #vacci...\n",
       "4         it’s over?!\\n\\n#covid19millionares #covid19 \\n...\n",
       "                                ...                        \n",
       "244019    #covidvaccine booster doses are now being offe...\n",
       "244020    may mrna vaccines put the virus mutations swif...\n",
       "244021    is this possible??? humans emitting a bluetoot...\n",
       "244022    medical #tyranny in germany… #covidvaccine? #j...\n",
       "244023    tension prevails as body of muslim youth kille...\n",
       "Name: text, Length: 244024, dtype: object"
      ]
     },
     "execution_count": 7,
     "metadata": {},
     "output_type": "execute_result"
    }
   ],
   "source": [
    "# Lowercase\n",
    "Train['text'] = Train['text'].str.lower()\n",
    "Train['text']"
   ]
  },
  {
   "cell_type": "code",
   "execution_count": 8,
   "id": "984ee62b",
   "metadata": {
    "execution": {
     "iopub.execute_input": "2022-07-14T10:32:38.303208Z",
     "iopub.status.busy": "2022-07-14T10:32:38.301365Z",
     "iopub.status.idle": "2022-07-14T10:32:38.830784Z",
     "shell.execute_reply": "2022-07-14T10:32:38.830156Z",
     "shell.execute_reply.started": "2022-04-12T06:19:32.471265Z"
    },
    "papermill": {
     "duration": 0.556176,
     "end_time": "2022-07-14T10:32:38.830974",
     "exception": false,
     "start_time": "2022-07-14T10:32:38.274798",
     "status": "completed"
    },
    "tags": []
   },
   "outputs": [
    {
     "data": {
      "text/plain": [
       "0         australia to manufacture covid-19 vaccine and ...\n",
       "1         @msnbc well, let’s qualify that: would anyone ...\n",
       "2         most countries, without the ability to make #v...\n",
       "3         #dna  zooms up charts in 1st week; hear #vacci...\n",
       "4         it’s over?!\\n\\n#covid19millionares #covid19 \\n...\n",
       "                                ...                        \n",
       "244019    #covidvaccine booster doses are now being offe...\n",
       "244020    may mrna vaccines put the virus mutations swif...\n",
       "244021    is this possible??? humans emitting a bluetoot...\n",
       "244022    medical #tyranny in germany… #covidvaccine? #j...\n",
       "244023    tension prevails as body of muslim youth kille...\n",
       "Name: text, Length: 244024, dtype: object"
      ]
     },
     "execution_count": 8,
     "metadata": {},
     "output_type": "execute_result"
    }
   ],
   "source": [
    "# URL Removal\n",
    "Train['text'] = Train['text'].apply(lambda x:re.sub(r\"http\\S+\", \"\", x))\n",
    "Train[\"text\"]"
   ]
  },
  {
   "cell_type": "code",
   "execution_count": 9,
   "id": "d014a3e6",
   "metadata": {
    "execution": {
     "iopub.execute_input": "2022-07-14T10:32:38.882429Z",
     "iopub.status.busy": "2022-07-14T10:32:38.881709Z",
     "iopub.status.idle": "2022-07-14T10:32:38.884863Z",
     "shell.execute_reply": "2022-07-14T10:32:38.884297Z",
     "shell.execute_reply.started": "2022-04-12T06:19:33.089804Z"
    },
    "papermill": {
     "duration": 0.031796,
     "end_time": "2022-07-14T10:32:38.885027",
     "exception": false,
     "start_time": "2022-07-14T10:32:38.853231",
     "status": "completed"
    },
    "tags": []
   },
   "outputs": [],
   "source": [
    "import string"
   ]
  },
  {
   "cell_type": "code",
   "execution_count": 10,
   "id": "96542859",
   "metadata": {
    "execution": {
     "iopub.execute_input": "2022-07-14T10:32:38.931316Z",
     "iopub.status.busy": "2022-07-14T10:32:38.930579Z",
     "iopub.status.idle": "2022-07-14T10:32:41.497578Z",
     "shell.execute_reply": "2022-07-14T10:32:41.496931Z",
     "shell.execute_reply.started": "2022-04-12T06:19:33.096151Z"
    },
    "papermill": {
     "duration": 2.59108,
     "end_time": "2022-07-14T10:32:41.497730",
     "exception": false,
     "start_time": "2022-07-14T10:32:38.906650",
     "status": "completed"
    },
    "tags": []
   },
   "outputs": [
    {
     "data": {
      "text/plain": [
       "0         australia to manufacture covid19 vaccine and g...\n",
       "1         msnbc well let’s qualify that would anyone of ...\n",
       "2         most countries without the ability to make vac...\n",
       "3         dna  zooms up charts in 1st week hear vaccines...\n",
       "4         it’s over\\n\\ncovid19millionares covid19 \\ncoro...\n",
       "                                ...                        \n",
       "244019    covidvaccine booster doses are now being offer...\n",
       "244020    may mrna vaccines put the virus mutations swif...\n",
       "244021    is this possible humans emitting a bluetooth m...\n",
       "244022    medical tyranny in germany… covidvaccine justs...\n",
       "244023    tension prevails as body of muslim youth kille...\n",
       "Name: text, Length: 244024, dtype: object"
      ]
     },
     "execution_count": 10,
     "metadata": {},
     "output_type": "execute_result"
    }
   ],
   "source": [
    "# Punctuation Removal\n",
    "punctuation_removal = string.punctuation\n",
    "def remove_punctuation(text):\n",
    "    \"\"\"custom function to remove the punctuation\"\"\"\n",
    "    return text.translate(str.maketrans('', '', punctuation_removal))\n",
    "Train[\"text\"] = Train[\"text\"].apply(lambda text: remove_punctuation(text))\n",
    "Train[\"text\"]"
   ]
  },
  {
   "cell_type": "code",
   "execution_count": 11,
   "id": "e8b15ca0",
   "metadata": {
    "execution": {
     "iopub.execute_input": "2022-07-14T10:32:41.550276Z",
     "iopub.status.busy": "2022-07-14T10:32:41.549186Z",
     "iopub.status.idle": "2022-07-14T10:32:45.654915Z",
     "shell.execute_reply": "2022-07-14T10:32:45.654371Z",
     "shell.execute_reply.started": "2022-04-12T06:19:35.801834Z"
    },
    "papermill": {
     "duration": 4.135385,
     "end_time": "2022-07-14T10:32:45.655072",
     "exception": false,
     "start_time": "2022-07-14T10:32:41.519687",
     "status": "completed"
    },
    "tags": []
   },
   "outputs": [
    {
     "data": {
      "text/plain": [
       "0         australia to manufacture covid19 vaccine and g...\n",
       "1         msnbc well let’s qualify that would anyone of ...\n",
       "2         most countries without the ability to make vac...\n",
       "3         dna zooms up charts in 1st week hear vaccines ...\n",
       "4         it’s over covid19millionares covid19 corona co...\n",
       "                                ...                        \n",
       "244019    covidvaccine booster doses are now being offer...\n",
       "244020    may mrna vaccines put the virus mutations swif...\n",
       "244021    is this possible humans emittingbluetooth mac ...\n",
       "244022    medical tyranny in germany… covidvaccine justs...\n",
       "244023    tension prevails as body of muslim youth kille...\n",
       "Name: text, Length: 244024, dtype: object"
      ]
     },
     "execution_count": 11,
     "metadata": {},
     "output_type": "execute_result"
    }
   ],
   "source": [
    "# Single character and double space removal\n",
    "Train[\"text\"] = Train[\"text\"].apply(lambda x:re.sub(r'\\s+[a-zA-Z]\\s+', '', x))\n",
    "Train[\"text\"] = Train[\"text\"].apply(lambda x:re.sub(r'\\s+', ' ', x, flags=re.I))\n",
    "Train[\"text\"]"
   ]
  },
  {
   "cell_type": "code",
   "execution_count": 12,
   "id": "032a7975",
   "metadata": {
    "execution": {
     "iopub.execute_input": "2022-07-14T10:32:45.706611Z",
     "iopub.status.busy": "2022-07-14T10:32:45.705452Z",
     "iopub.status.idle": "2022-07-14T10:32:46.930991Z",
     "shell.execute_reply": "2022-07-14T10:32:46.931491Z",
     "shell.execute_reply.started": "2022-04-12T06:19:41.703930Z"
    },
    "papermill": {
     "duration": 1.255068,
     "end_time": "2022-07-14T10:32:46.931701",
     "exception": false,
     "start_time": "2022-07-14T10:32:45.676633",
     "status": "completed"
    },
    "tags": []
   },
   "outputs": [
    {
     "data": {
      "text/plain": [
       "0         australia manufacture covid19 vaccine give cit...\n",
       "1         msnbc well let’s qualify would anyone party ge...\n",
       "2         countries without ability make vaccines locall...\n",
       "3         dna zooms charts 1st week hear vaccines episod...\n",
       "4         it’s covid19millionares covid19 corona covidva...\n",
       "                                ...                        \n",
       "244019    covidvaccine booster doses offered children ag...\n",
       "244020    may mrna vaccines put virus mutations swiftly ...\n",
       "244021    possible humans emittingbluetooth mac adress s...\n",
       "244022    medical tyranny germany… covidvaccine justsayn...\n",
       "244023    tension prevails body muslim youth killed cele...\n",
       "Name: text, Length: 244024, dtype: object"
      ]
     },
     "execution_count": 12,
     "metadata": {},
     "output_type": "execute_result"
    }
   ],
   "source": [
    "# Stopword Removal\n",
    "\", \".join(stopwords.words('english'))\n",
    "STOPWORDS = set(stopwords.words('english'))\n",
    "def remove_stopwords(text):\n",
    "    \"\"\"custom function to remove the stopwords\"\"\"\n",
    "    return \" \".join([word for word in str(text).split() if word not in STOPWORDS])\n",
    "\n",
    "Train[\"text\"] = Train[\"text\"].apply(lambda text: remove_stopwords(text))\n",
    "Train[\"text\"]"
   ]
  },
  {
   "cell_type": "code",
   "execution_count": 13,
   "id": "a0f4c322",
   "metadata": {
    "execution": {
     "iopub.execute_input": "2022-07-14T10:32:46.988449Z",
     "iopub.status.busy": "2022-07-14T10:32:46.982915Z",
     "iopub.status.idle": "2022-07-14T10:32:48.521038Z",
     "shell.execute_reply": "2022-07-14T10:32:48.520263Z",
     "shell.execute_reply.started": "2022-04-12T06:19:43.206390Z"
    },
    "papermill": {
     "duration": 1.565871,
     "end_time": "2022-07-14T10:32:48.521207",
     "exception": false,
     "start_time": "2022-07-14T10:32:46.955336",
     "status": "completed"
    },
    "tags": []
   },
   "outputs": [
    {
     "data": {
      "text/plain": [
       "0         australia manufacture covid19 vaccine give cit...\n",
       "1         msnbc well let’s qualify would anyone party ge...\n",
       "2         countries without ability make vaccines locall...\n",
       "3         dna zooms charts 1st week hear vaccines episod...\n",
       "4         it’s covid19millionares covid19 corona covidva...\n",
       "                                ...                        \n",
       "244019    covidvaccine booster doses offered children ag...\n",
       "244020    may mrna vaccines put virus mutations swiftly ...\n",
       "244021    possible humans emittingbluetooth mac adress s...\n",
       "244022    medical tyranny germany… covidvaccine justsayn...\n",
       "244023    tension prevails body muslim youth killed cele...\n",
       "Name: text, Length: 244024, dtype: object"
      ]
     },
     "execution_count": 13,
     "metadata": {},
     "output_type": "execute_result"
    }
   ],
   "source": [
    "# Emoji Removal\n",
    "def remove_emoji(string):\n",
    "    emoji_pattern = re.compile(\"[\"\n",
    "                               u\"\\U0001F600-\\U0001F64F\"  # emoticons\n",
    "                               u\"\\U0001F300-\\U0001F5FF\"  # symbols & pictographs\n",
    "                               u\"\\U0001F680-\\U0001F6FF\"  # transport & map symbols\n",
    "                               u\"\\U0001F1E0-\\U0001F1FF\"  # flags (iOS)\n",
    "                               u\"\\U00002500-\\U00002BEF\"  # chinese char\n",
    "                               u\"\\U00002702-\\U000027B0\"\n",
    "                               u\"\\U00002702-\\U000027B0\"\n",
    "                               u\"\\U000024C2-\\U0001F251\"\n",
    "                               u\"\\U0001f926-\\U0001f937\"\n",
    "                               u\"\\U00010000-\\U0010ffff\"\n",
    "                               u\"\\u2640-\\u2642\"\n",
    "                               u\"\\u2600-\\u2B55\"\n",
    "                               u\"\\u200d\"\n",
    "                               u\"\\u23cf\"\n",
    "                               u\"\\u23e9\"\n",
    "                               u\"\\u231a\"\n",
    "                               u\"\\ufe0f\"  # dingbats\n",
    "                               u\"\\u3030\"\n",
    "                               \"]+\", flags=re.UNICODE)\n",
    "    return emoji_pattern.sub(r'', string)\n",
    "Train[\"text\"] = Train[\"text\"].apply(str)\n",
    "Train[\"text\"] = Train[\"text\"].apply(remove_emoji)\n",
    "Train[\"text\"]"
   ]
  },
  {
   "cell_type": "code",
   "execution_count": 14,
   "id": "c9bbf72e",
   "metadata": {
    "execution": {
     "iopub.execute_input": "2022-07-14T10:32:48.573996Z",
     "iopub.status.busy": "2022-07-14T10:32:48.573300Z",
     "iopub.status.idle": "2022-07-14T10:32:48.971557Z",
     "shell.execute_reply": "2022-07-14T10:32:48.970936Z",
     "shell.execute_reply.started": "2022-04-12T06:19:46.206765Z"
    },
    "papermill": {
     "duration": 0.426202,
     "end_time": "2022-07-14T10:32:48.971719",
     "exception": false,
     "start_time": "2022-07-14T10:32:48.545517",
     "status": "completed"
    },
    "tags": []
   },
   "outputs": [
    {
     "name": "stderr",
     "output_type": "stream",
     "text": [
      "/opt/conda/lib/python3.7/site-packages/seaborn/_decorators.py:43: FutureWarning: Pass the following variable as a keyword arg: x. From version 0.12, the only valid positional argument will be `data`, and passing other arguments without an explicit keyword will result in an error or misinterpretation.\n",
      "  FutureWarning\n"
     ]
    },
    {
     "data": {
      "image/png": "[encoded data removed]",
      "text/plain": [
       "<Figure size 432x288 with 1 Axes>"
      ]
     },
     "metadata": {
      "needs_background": "light"
     },
     "output_type": "display_data"
    }
   ],
   "source": [
    "import seaborn as sns\n",
    "ax=sns.countplot(data.Sentiment)"
   ]
  },
  {
   "cell_type": "code",
   "execution_count": 15,
   "id": "e19bb606",
   "metadata": {
    "execution": {
     "iopub.execute_input": "2022-07-14T10:32:49.033320Z",
     "iopub.status.busy": "2022-07-14T10:32:49.032561Z",
     "iopub.status.idle": "2022-07-14T10:32:49.059636Z",
     "shell.execute_reply": "2022-07-14T10:32:49.059106Z",
     "shell.execute_reply.started": "2022-04-12T06:19:46.534370Z"
    },
    "papermill": {
     "duration": 0.062095,
     "end_time": "2022-07-14T10:32:49.059795",
     "exception": false,
     "start_time": "2022-07-14T10:32:48.997700",
     "status": "completed"
    },
    "tags": []
   },
   "outputs": [
    {
     "data": {
      "text/html": [
       "<div>\n",
       "<style scoped>\n",
       "    .dataframe tbody tr th:only-of-type {\n",
       "        vertical-align: middle;\n",
       "    }\n",
       "\n",
       "    .dataframe tbody tr th {\n",
       "        vertical-align: top;\n",
       "    }\n",
       "\n",
       "    .dataframe thead th {\n",
       "        text-align: right;\n",
       "    }\n",
       "</style>\n",
       "<table border=\"1\" class=\"dataframe\">\n",
       "  <thead>\n",
       "    <tr style=\"text-align: right;\">\n",
       "      <th></th>\n",
       "      <th>Unnamed: 0</th>\n",
       "      <th>Unnamed: 0.1</th>\n",
       "      <th>Unnamed: 0.1.1</th>\n",
       "      <th>user_name</th>\n",
       "      <th>text</th>\n",
       "      <th>Sentiment</th>\n",
       "      <th>cleaned</th>\n",
       "    </tr>\n",
       "  </thead>\n",
       "  <tbody>\n",
       "    <tr>\n",
       "      <th>0</th>\n",
       "      <td>0</td>\n",
       "      <td>0</td>\n",
       "      <td>0</td>\n",
       "      <td>MyNewsNE</td>\n",
       "      <td>australia manufacture covid19 vaccine give cit...</td>\n",
       "      <td>1</td>\n",
       "      <td>australia manufactur covid vaccin give citizen...</td>\n",
       "    </tr>\n",
       "    <tr>\n",
       "      <th>1</th>\n",
       "      <td>1</td>\n",
       "      <td>1</td>\n",
       "      <td>7</td>\n",
       "      <td>AKisASocialisolationist wash yer damn hands</td>\n",
       "      <td>msnbc well let’s qualify would anyone party ge...</td>\n",
       "      <td>1</td>\n",
       "      <td>msnbc well let qualifi would anyon parti get v...</td>\n",
       "    </tr>\n",
       "    <tr>\n",
       "      <th>2</th>\n",
       "      <td>2</td>\n",
       "      <td>2</td>\n",
       "      <td>8</td>\n",
       "      <td>Dr. Joseph Santoro</td>\n",
       "      <td>countries without ability make vaccines locall...</td>\n",
       "      <td>-1</td>\n",
       "      <td>most countri without abil make vaccin local fo...</td>\n",
       "    </tr>\n",
       "    <tr>\n",
       "      <th>3</th>\n",
       "      <td>3</td>\n",
       "      <td>3</td>\n",
       "      <td>9</td>\n",
       "      <td>VUMC OAP</td>\n",
       "      <td>dna zooms charts 1st week hear vaccines episod...</td>\n",
       "      <td>0</td>\n",
       "      <td>dna zoom chart st week hear vaccin episod http...</td>\n",
       "    </tr>\n",
       "    <tr>\n",
       "      <th>4</th>\n",
       "      <td>4</td>\n",
       "      <td>4</td>\n",
       "      <td>11</td>\n",
       "      <td>Mohammadali Naseri</td>\n",
       "      <td>it’s covid19millionares covid19 corona covidva...</td>\n",
       "      <td>0</td>\n",
       "      <td>covid millionar covid corona covidvaccin</td>\n",
       "    </tr>\n",
       "  </tbody>\n",
       "</table>\n",
       "</div>"
      ],
      "text/plain": [
       "   Unnamed: 0  Unnamed: 0.1  Unnamed: 0.1.1  \\\n",
       "0           0             0               0   \n",
       "1           1             1               7   \n",
       "2           2             2               8   \n",
       "3           3             3               9   \n",
       "4           4             4              11   \n",
       "\n",
       "                                     user_name  \\\n",
       "0                                     MyNewsNE   \n",
       "1  AKisASocialisolationist wash yer damn hands   \n",
       "2                           Dr. Joseph Santoro   \n",
       "3                                     VUMC OAP   \n",
       "4                           Mohammadali Naseri   \n",
       "\n",
       "                                                text  Sentiment  \\\n",
       "0  australia manufacture covid19 vaccine give cit...          1   \n",
       "1  msnbc well let’s qualify would anyone party ge...          1   \n",
       "2  countries without ability make vaccines locall...         -1   \n",
       "3  dna zooms charts 1st week hear vaccines episod...          0   \n",
       "4  it’s covid19millionares covid19 corona covidva...          0   \n",
       "\n",
       "                                             cleaned  \n",
       "0  australia manufactur covid vaccin give citizen...  \n",
       "1  msnbc well let qualifi would anyon parti get v...  \n",
       "2  most countri without abil make vaccin local fo...  \n",
       "3  dna zoom chart st week hear vaccin episod http...  \n",
       "4           covid millionar covid corona covidvaccin  "
      ]
     },
     "execution_count": 15,
     "metadata": {},
     "output_type": "execute_result"
    }
   ],
   "source": [
    "data.drop([\"user_location\", \n",
    "                                \"user_description\", \"user_created\", \n",
    "                                \"user_followers\", \"user_friends\", \n",
    "                                \"user_favourites\", \"user_verified\",\"date\",\"hashtags\", \n",
    "                                \"source\", \"is_retweet\" ,\"Positive\",\"Negative\",\"Neutral\",\"Compound\"],axis=1,inplace=True)\n",
    "data.head()"
   ]
  },
  {
   "cell_type": "code",
   "execution_count": 16,
   "id": "69178487",
   "metadata": {
    "execution": {
     "iopub.execute_input": "2022-07-14T10:32:49.117771Z",
     "iopub.status.busy": "2022-07-14T10:32:49.117072Z",
     "iopub.status.idle": "2022-07-14T10:32:49.179145Z",
     "shell.execute_reply": "2022-07-14T10:32:49.177929Z",
     "shell.execute_reply.started": "2022-04-12T06:19:46.570277Z"
    },
    "papermill": {
     "duration": 0.094483,
     "end_time": "2022-07-14T10:32:49.179386",
     "exception": false,
     "start_time": "2022-07-14T10:32:49.084903",
     "status": "completed"
    },
    "tags": []
   },
   "outputs": [
    {
     "name": "stdout",
     "output_type": "stream",
     "text": [
      "training set : (195219,) (195219,)\n",
      "testing set : (48805,) (48805,)\n"
     ]
    }
   ],
   "source": [
    "#Split data into training and testing sets \n",
    "from sklearn.feature_extraction.text import CountVectorizer\n",
    "from sklearn.model_selection import train_test_split\n",
    "x_train, x_test, y_train, y_test = train_test_split(data[\"text\"], \n",
    "                                                    data[\"Sentiment\"], test_size = 0.2, random_state = 42)\n",
    "\n",
    "print(\"training set :\",x_train.shape,y_train.shape)\n",
    "print(\"testing set :\",x_test.shape,y_test.shape)"
   ]
  },
  {
   "cell_type": "code",
   "execution_count": 17,
   "id": "915a4386",
   "metadata": {
    "execution": {
     "iopub.execute_input": "2022-07-14T10:32:49.292638Z",
     "iopub.status.busy": "2022-07-14T10:32:49.266371Z",
     "iopub.status.idle": "2022-07-14T10:32:54.004486Z",
     "shell.execute_reply": "2022-07-14T10:32:54.003818Z",
     "shell.execute_reply.started": "2022-04-12T06:19:46.626818Z"
    },
    "papermill": {
     "duration": 4.799451,
     "end_time": "2022-07-14T10:32:54.004637",
     "exception": false,
     "start_time": "2022-07-14T10:32:49.205186",
     "status": "completed"
    },
    "tags": []
   },
   "outputs": [
    {
     "name": "stdout",
     "output_type": "stream",
     "text": [
      "(195219, 197244)\n",
      "(195219, 197244)\n"
     ]
    }
   ],
   "source": [
    "from sklearn.feature_extraction.text import CountVectorizer, TfidfTransformer\n",
    "count_vect = CountVectorizer(stop_words='english')\n",
    "transformer = TfidfTransformer(norm='l2',sublinear_tf=True)\n",
    "x_train_counts = count_vect.fit_transform(x_train)\n",
    "x_train_tfidf = transformer.fit_transform(x_train_counts)\n",
    "\n",
    "print(x_train_counts.shape)\n",
    "print(x_train_tfidf.shape)"
   ]
  },
  {
   "cell_type": "code",
   "execution_count": 18,
   "id": "d47afdd7",
   "metadata": {
    "execution": {
     "iopub.execute_input": "2022-07-14T10:32:54.098213Z",
     "iopub.status.busy": "2022-07-14T10:32:54.072260Z",
     "iopub.status.idle": "2022-07-14T10:32:55.046450Z",
     "shell.execute_reply": "2022-07-14T10:32:55.045794Z",
     "shell.execute_reply.started": "2022-04-12T06:19:52.176604Z"
    },
    "papermill": {
     "duration": 1.017713,
     "end_time": "2022-07-14T10:32:55.046601",
     "exception": false,
     "start_time": "2022-07-14T10:32:54.028888",
     "status": "completed"
    },
    "tags": []
   },
   "outputs": [
    {
     "name": "stdout",
     "output_type": "stream",
     "text": [
      "(48805, 197244)\n",
      "(48805, 197244)\n"
     ]
    }
   ],
   "source": [
    "x_test_counts = count_vect.transform(x_test)\n",
    "x_test_tfidf = transformer.transform(x_test_counts)\n",
    "\n",
    "print(x_test_counts.shape)\n",
    "print(x_test_tfidf.shape)"
   ]
  },
  {
   "cell_type": "code",
   "execution_count": 19,
   "id": "b4190e37",
   "metadata": {
    "execution": {
     "iopub.execute_input": "2022-07-14T10:32:55.104337Z",
     "iopub.status.busy": "2022-07-14T10:32:55.103568Z",
     "iopub.status.idle": "2022-07-14T12:06:27.074030Z",
     "shell.execute_reply": "2022-07-14T12:06:27.074661Z"
    },
    "papermill": {
     "duration": 5612.00344,
     "end_time": "2022-07-14T12:06:27.074993",
     "exception": false,
     "start_time": "2022-07-14T10:32:55.071553",
     "status": "completed"
    },
    "tags": []
   },
   "outputs": [
    {
     "data": {
      "text/plain": [
       "RandomForestClassifier(n_estimators=150)"
      ]
     },
     "execution_count": 19,
     "metadata": {},
     "output_type": "execute_result"
    }
   ],
   "source": [
    "from sklearn.ensemble import RandomForestClassifier\n",
    "model = RandomForestClassifier(n_estimators=150)\n",
    "model.fit(x_train_tfidf,y_train)"
   ]
  },
  {
   "cell_type": "code",
   "execution_count": 20,
   "id": "42aff532",
   "metadata": {
    "execution": {
     "iopub.execute_input": "2022-07-14T12:06:27.139974Z",
     "iopub.status.busy": "2022-07-14T12:06:27.135248Z",
     "iopub.status.idle": "2022-07-14T12:06:49.950199Z",
     "shell.execute_reply": "2022-07-14T12:06:49.949438Z"
    },
    "papermill": {
     "duration": 22.849902,
     "end_time": "2022-07-14T12:06:49.950396",
     "exception": false,
     "start_time": "2022-07-14T12:06:27.100494",
     "status": "completed"
    },
    "tags": []
   },
   "outputs": [
    {
     "data": {
      "text/plain": [
       "83.18819793053991"
      ]
     },
     "execution_count": 20,
     "metadata": {},
     "output_type": "execute_result"
    }
   ],
   "source": [
    "predictions = model.predict(x_test_tfidf)\n",
    "#Accuracy_score\n",
    "from sklearn.metrics import accuracy_score\n",
    "accuracy_score(y_test,predictions)*100"
   ]
  },
  {
   "cell_type": "code",
   "execution_count": 21,
   "id": "70757611",
   "metadata": {
    "execution": {
     "iopub.execute_input": "2022-07-14T12:06:50.007263Z",
     "iopub.status.busy": "2022-07-14T12:06:50.006562Z",
     "iopub.status.idle": "2022-07-14T12:06:50.014265Z",
     "shell.execute_reply": "2022-07-14T12:06:50.013681Z"
    },
    "papermill": {
     "duration": 0.038658,
     "end_time": "2022-07-14T12:06:50.014426",
     "exception": false,
     "start_time": "2022-07-14T12:06:49.975768",
     "status": "completed"
    },
    "tags": []
   },
   "outputs": [
    {
     "data": {
      "text/plain": [
       "83.18819793053991"
      ]
     },
     "execution_count": 21,
     "metadata": {},
     "output_type": "execute_result"
    }
   ],
   "source": [
    "from sklearn.metrics import accuracy_score\n",
    "accuracy_score(y_test,predictions)*100"
   ]
  },
  {
   "cell_type": "code",
   "execution_count": 22,
   "id": "f148e8a4",
   "metadata": {
    "execution": {
     "iopub.execute_input": "2022-07-14T12:06:50.072108Z",
     "iopub.status.busy": "2022-07-14T12:06:50.071398Z",
     "iopub.status.idle": "2022-07-14T12:06:50.157952Z",
     "shell.execute_reply": "2022-07-14T12:06:50.157372Z"
    },
    "papermill": {
     "duration": 0.117737,
     "end_time": "2022-07-14T12:06:50.158115",
     "exception": false,
     "start_time": "2022-07-14T12:06:50.040378",
     "status": "completed"
    },
    "tags": []
   },
   "outputs": [
    {
     "name": "stdout",
     "output_type": "stream",
     "text": [
      "Classification Report : \n",
      "              precision    recall  f1-score   support\n",
      "\n",
      "          -1       0.86      0.60      0.71      9940\n",
      "           0       0.77      0.93      0.84     16467\n",
      "           1       0.88      0.87      0.87     22398\n",
      "\n",
      "    accuracy                           0.83     48805\n",
      "   macro avg       0.84      0.80      0.81     48805\n",
      "weighted avg       0.84      0.83      0.83     48805\n",
      "\n"
     ]
    }
   ],
   "source": [
    "print(\"Classification Report : \")\n",
    "print(classification_report(y_test,predictions))"
   ]
  },
  {
   "cell_type": "code",
   "execution_count": 23,
   "id": "43c9b7ca",
   "metadata": {
    "execution": {
     "iopub.execute_input": "2022-07-14T12:06:50.217613Z",
     "iopub.status.busy": "2022-07-14T12:06:50.216518Z",
     "iopub.status.idle": "2022-07-14T12:06:50.259973Z",
     "shell.execute_reply": "2022-07-14T12:06:50.260484Z"
    },
    "papermill": {
     "duration": 0.076331,
     "end_time": "2022-07-14T12:06:50.260681",
     "exception": false,
     "start_time": "2022-07-14T12:06:50.184350",
     "status": "completed"
    },
    "tags": []
   },
   "outputs": [
    {
     "data": {
      "text/plain": [
       "array([[ 5953,  2077,  1910],\n",
       "       [  346, 15266,   855],\n",
       "       [  614,  2403, 19381]])"
      ]
     },
     "execution_count": 23,
     "metadata": {},
     "output_type": "execute_result"
    }
   ],
   "source": [
    "from sklearn.metrics import confusion_matrix,f1_score\n",
    "\n",
    "from sklearn.metrics import plot_confusion_matrix\n",
    "confusion_matrix(y_test,predictions)"
   ]
  }
 ],
 "metadata": {
  "kernelspec": {
   "display_name": "Python 3",
   "language": "python",
   "name": "python3"
  },
  "language_info": {
   "codemirror_mode": {
    "name": "ipython",
    "version": 3
   },
   "file_extension": ".py",
   "mimetype": "text/x-python",
   "name": "python",
   "nbconvert_exporter": "python",
   "pygments_lexer": "ipython3",
   "version": "3.7.12"
  },
  "papermill": {
   "default_parameters": {},
   "duration": 5771.994442,
   "end_time": "2022-07-14T12:06:52.619495",
   "environment_variables": {},
   "exception": null,
   "input_path": "__notebook__.ipynb",
   "output_path": "__notebook__.ipynb",
   "parameters": {},
   "start_time": "2022-07-14T10:30:40.625053",
   "version": "2.3.3"
  }
 },
 "nbformat": 4,
 "nbformat_minor": 5
}
